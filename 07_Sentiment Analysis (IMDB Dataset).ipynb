{
 "cells": [
  {
   "cell_type": "code",
   "execution_count": 22,
   "id": "87ec1fe7",
   "metadata": {},
   "outputs": [],
   "source": [
    "# This is a project type notebook, it needs huge computational power and time for the full IMDB Dataset"
   ]
  },
  {
   "cell_type": "code",
   "execution_count": 23,
   "id": "7a3a6383",
   "metadata": {
    "scrolled": false
   },
   "outputs": [
    {
     "name": "stdout",
     "output_type": "stream",
     "text": [
      "Requirement already satisfied: nltk in c:\\users\\saims\\anaconda3\\lib\\site-packages (3.7)\n",
      "Requirement already satisfied: regex>=2021.8.3 in c:\\users\\saims\\anaconda3\\lib\\site-packages (from nltk) (2022.7.9)\n",
      "Requirement already satisfied: tqdm in c:\\users\\saims\\anaconda3\\lib\\site-packages (from nltk) (4.64.1)\n",
      "Requirement already satisfied: joblib in c:\\users\\saims\\anaconda3\\lib\\site-packages (from nltk) (1.1.1)\n",
      "Requirement already satisfied: click in c:\\users\\saims\\anaconda3\\lib\\site-packages (from nltk) (8.0.4)\n",
      "Requirement already satisfied: colorama in c:\\users\\saims\\anaconda3\\lib\\site-packages (from click->nltk) (0.4.6)\n"
     ]
    }
   ],
   "source": [
    "!pip install nltk"
   ]
  },
  {
   "cell_type": "code",
   "execution_count": 24,
   "id": "4d589dcd",
   "metadata": {},
   "outputs": [
    {
     "name": "stderr",
     "output_type": "stream",
     "text": [
      "[nltk_data] Downloading package stopwords to\n",
      "[nltk_data]     C:\\Users\\saims\\AppData\\Roaming\\nltk_data...\n",
      "[nltk_data]   Package stopwords is already up-to-date!\n"
     ]
    },
    {
     "data": {
      "text/plain": [
       "True"
      ]
     },
     "execution_count": 24,
     "metadata": {},
     "output_type": "execute_result"
    }
   ],
   "source": [
    "import nltk\n",
    "nltk.download('stopwords')"
   ]
  },
  {
   "cell_type": "code",
   "execution_count": 3,
   "id": "4732bbb2",
   "metadata": {},
   "outputs": [],
   "source": [
    "import pandas as pd"
   ]
  },
  {
   "cell_type": "code",
   "execution_count": 4,
   "id": "233e4162",
   "metadata": {},
   "outputs": [],
   "source": [
    "# importing the dataframe"
   ]
  },
  {
   "cell_type": "code",
   "execution_count": 5,
   "id": "0b367b01",
   "metadata": {},
   "outputs": [],
   "source": [
    "# df = pd.read_csv('IMDB Dataset.csv')\n",
    "\n",
    "# taking only first 5000 rows\n",
    "df = pd.read_csv('IMDB Dataset.csv').head(100)"
   ]
  },
  {
   "cell_type": "code",
   "execution_count": 6,
   "id": "33b8ba6d",
   "metadata": {},
   "outputs": [
    {
     "data": {
      "text/html": [
       "<div>\n",
       "<style scoped>\n",
       "    .dataframe tbody tr th:only-of-type {\n",
       "        vertical-align: middle;\n",
       "    }\n",
       "\n",
       "    .dataframe tbody tr th {\n",
       "        vertical-align: top;\n",
       "    }\n",
       "\n",
       "    .dataframe thead th {\n",
       "        text-align: right;\n",
       "    }\n",
       "</style>\n",
       "<table border=\"1\" class=\"dataframe\">\n",
       "  <thead>\n",
       "    <tr style=\"text-align: right;\">\n",
       "      <th></th>\n",
       "      <th>review</th>\n",
       "      <th>sentiment</th>\n",
       "    </tr>\n",
       "  </thead>\n",
       "  <tbody>\n",
       "    <tr>\n",
       "      <th>0</th>\n",
       "      <td>One of the other reviewers has mentioned that ...</td>\n",
       "      <td>positive</td>\n",
       "    </tr>\n",
       "    <tr>\n",
       "      <th>1</th>\n",
       "      <td>A wonderful little production. &lt;br /&gt;&lt;br /&gt;The...</td>\n",
       "      <td>positive</td>\n",
       "    </tr>\n",
       "    <tr>\n",
       "      <th>2</th>\n",
       "      <td>I thought this was a wonderful way to spend ti...</td>\n",
       "      <td>positive</td>\n",
       "    </tr>\n",
       "    <tr>\n",
       "      <th>3</th>\n",
       "      <td>Basically there's a family where a little boy ...</td>\n",
       "      <td>negative</td>\n",
       "    </tr>\n",
       "    <tr>\n",
       "      <th>4</th>\n",
       "      <td>Petter Mattei's \"Love in the Time of Money\" is...</td>\n",
       "      <td>positive</td>\n",
       "    </tr>\n",
       "    <tr>\n",
       "      <th>...</th>\n",
       "      <td>...</td>\n",
       "      <td>...</td>\n",
       "    </tr>\n",
       "    <tr>\n",
       "      <th>95</th>\n",
       "      <td>Daniel Day-Lewis is the most versatile actor a...</td>\n",
       "      <td>positive</td>\n",
       "    </tr>\n",
       "    <tr>\n",
       "      <th>96</th>\n",
       "      <td>My guess would be this was originally going to...</td>\n",
       "      <td>negative</td>\n",
       "    </tr>\n",
       "    <tr>\n",
       "      <th>97</th>\n",
       "      <td>Well, I like to watch bad horror B-Movies, cau...</td>\n",
       "      <td>negative</td>\n",
       "    </tr>\n",
       "    <tr>\n",
       "      <th>98</th>\n",
       "      <td>This IS the worst movie I have ever seen, as w...</td>\n",
       "      <td>negative</td>\n",
       "    </tr>\n",
       "    <tr>\n",
       "      <th>99</th>\n",
       "      <td>I have been a Mario fan for as long as I can r...</td>\n",
       "      <td>positive</td>\n",
       "    </tr>\n",
       "  </tbody>\n",
       "</table>\n",
       "<p>100 rows × 2 columns</p>\n",
       "</div>"
      ],
      "text/plain": [
       "                                               review sentiment\n",
       "0   One of the other reviewers has mentioned that ...  positive\n",
       "1   A wonderful little production. <br /><br />The...  positive\n",
       "2   I thought this was a wonderful way to spend ti...  positive\n",
       "3   Basically there's a family where a little boy ...  negative\n",
       "4   Petter Mattei's \"Love in the Time of Money\" is...  positive\n",
       "..                                                ...       ...\n",
       "95  Daniel Day-Lewis is the most versatile actor a...  positive\n",
       "96  My guess would be this was originally going to...  negative\n",
       "97  Well, I like to watch bad horror B-Movies, cau...  negative\n",
       "98  This IS the worst movie I have ever seen, as w...  negative\n",
       "99  I have been a Mario fan for as long as I can r...  positive\n",
       "\n",
       "[100 rows x 2 columns]"
      ]
     },
     "execution_count": 6,
     "metadata": {},
     "output_type": "execute_result"
    }
   ],
   "source": [
    "df"
   ]
  },
  {
   "cell_type": "code",
   "execution_count": 7,
   "id": "b31ce240",
   "metadata": {},
   "outputs": [],
   "source": [
    "# EDA"
   ]
  },
  {
   "cell_type": "code",
   "execution_count": 8,
   "id": "d366ce0a",
   "metadata": {},
   "outputs": [
    {
     "data": {
      "text/plain": [
       "(100, 2)"
      ]
     },
     "execution_count": 8,
     "metadata": {},
     "output_type": "execute_result"
    }
   ],
   "source": [
    "df.shape"
   ]
  },
  {
   "cell_type": "code",
   "execution_count": 9,
   "id": "52c53c91",
   "metadata": {},
   "outputs": [
    {
     "data": {
      "text/plain": [
       "review       0\n",
       "sentiment    0\n",
       "dtype: int64"
      ]
     },
     "execution_count": 9,
     "metadata": {},
     "output_type": "execute_result"
    }
   ],
   "source": [
    "df.isnull().sum()"
   ]
  },
  {
   "cell_type": "code",
   "execution_count": 10,
   "id": "0f836aea",
   "metadata": {},
   "outputs": [
    {
     "data": {
      "text/html": [
       "<div>\n",
       "<style scoped>\n",
       "    .dataframe tbody tr th:only-of-type {\n",
       "        vertical-align: middle;\n",
       "    }\n",
       "\n",
       "    .dataframe tbody tr th {\n",
       "        vertical-align: top;\n",
       "    }\n",
       "\n",
       "    .dataframe thead th {\n",
       "        text-align: right;\n",
       "    }\n",
       "</style>\n",
       "<table border=\"1\" class=\"dataframe\">\n",
       "  <thead>\n",
       "    <tr style=\"text-align: right;\">\n",
       "      <th></th>\n",
       "      <th>review</th>\n",
       "      <th>sentiment</th>\n",
       "    </tr>\n",
       "  </thead>\n",
       "  <tbody>\n",
       "    <tr>\n",
       "      <th>count</th>\n",
       "      <td>100</td>\n",
       "      <td>100</td>\n",
       "    </tr>\n",
       "    <tr>\n",
       "      <th>unique</th>\n",
       "      <td>100</td>\n",
       "      <td>2</td>\n",
       "    </tr>\n",
       "    <tr>\n",
       "      <th>top</th>\n",
       "      <td>One of the other reviewers has mentioned that ...</td>\n",
       "      <td>negative</td>\n",
       "    </tr>\n",
       "    <tr>\n",
       "      <th>freq</th>\n",
       "      <td>1</td>\n",
       "      <td>58</td>\n",
       "    </tr>\n",
       "  </tbody>\n",
       "</table>\n",
       "</div>"
      ],
      "text/plain": [
       "                                                   review sentiment\n",
       "count                                                 100       100\n",
       "unique                                                100         2\n",
       "top     One of the other reviewers has mentioned that ...  negative\n",
       "freq                                                    1        58"
      ]
     },
     "execution_count": 10,
     "metadata": {},
     "output_type": "execute_result"
    }
   ],
   "source": [
    "df.describe()"
   ]
  },
  {
   "cell_type": "code",
   "execution_count": 11,
   "id": "a50a53d2",
   "metadata": {},
   "outputs": [
    {
     "name": "stdout",
     "output_type": "stream",
     "text": [
      "<class 'pandas.core.frame.DataFrame'>\n",
      "RangeIndex: 100 entries, 0 to 99\n",
      "Data columns (total 2 columns):\n",
      " #   Column     Non-Null Count  Dtype \n",
      "---  ------     --------------  ----- \n",
      " 0   review     100 non-null    object\n",
      " 1   sentiment  100 non-null    object\n",
      "dtypes: object(2)\n",
      "memory usage: 1.7+ KB\n"
     ]
    }
   ],
   "source": [
    "df.info()"
   ]
  },
  {
   "cell_type": "code",
   "execution_count": 12,
   "id": "01321dee",
   "metadata": {},
   "outputs": [
    {
     "data": {
      "text/plain": [
       "array(['positive', 'negative'], dtype=object)"
      ]
     },
     "execution_count": 12,
     "metadata": {},
     "output_type": "execute_result"
    }
   ],
   "source": [
    "df['sentiment'].unique()"
   ]
  },
  {
   "cell_type": "code",
   "execution_count": 13,
   "id": "f2121557",
   "metadata": {},
   "outputs": [
    {
     "data": {
      "text/plain": [
       "negative    58\n",
       "positive    42\n",
       "Name: sentiment, dtype: int64"
      ]
     },
     "execution_count": 13,
     "metadata": {},
     "output_type": "execute_result"
    }
   ],
   "source": [
    "df['sentiment'].value_counts()"
   ]
  },
  {
   "cell_type": "code",
   "execution_count": 14,
   "id": "64075248",
   "metadata": {},
   "outputs": [],
   "source": [
    "# apply label encoder"
   ]
  },
  {
   "cell_type": "code",
   "execution_count": 15,
   "id": "55f47f8d",
   "metadata": {},
   "outputs": [],
   "source": [
    "from sklearn.preprocessing import LabelEncoder\n",
    "le = LabelEncoder()"
   ]
  },
  {
   "cell_type": "code",
   "execution_count": 16,
   "id": "f4ae95b6",
   "metadata": {},
   "outputs": [],
   "source": [
    "df['sentiment'] = le.fit_transform(df['sentiment'])"
   ]
  },
  {
   "cell_type": "code",
   "execution_count": 17,
   "id": "cf476df6",
   "metadata": {},
   "outputs": [
    {
     "data": {
      "text/html": [
       "<div>\n",
       "<style scoped>\n",
       "    .dataframe tbody tr th:only-of-type {\n",
       "        vertical-align: middle;\n",
       "    }\n",
       "\n",
       "    .dataframe tbody tr th {\n",
       "        vertical-align: top;\n",
       "    }\n",
       "\n",
       "    .dataframe thead th {\n",
       "        text-align: right;\n",
       "    }\n",
       "</style>\n",
       "<table border=\"1\" class=\"dataframe\">\n",
       "  <thead>\n",
       "    <tr style=\"text-align: right;\">\n",
       "      <th></th>\n",
       "      <th>review</th>\n",
       "      <th>sentiment</th>\n",
       "    </tr>\n",
       "  </thead>\n",
       "  <tbody>\n",
       "    <tr>\n",
       "      <th>0</th>\n",
       "      <td>One of the other reviewers has mentioned that ...</td>\n",
       "      <td>1</td>\n",
       "    </tr>\n",
       "    <tr>\n",
       "      <th>1</th>\n",
       "      <td>A wonderful little production. &lt;br /&gt;&lt;br /&gt;The...</td>\n",
       "      <td>1</td>\n",
       "    </tr>\n",
       "    <tr>\n",
       "      <th>2</th>\n",
       "      <td>I thought this was a wonderful way to spend ti...</td>\n",
       "      <td>1</td>\n",
       "    </tr>\n",
       "    <tr>\n",
       "      <th>3</th>\n",
       "      <td>Basically there's a family where a little boy ...</td>\n",
       "      <td>0</td>\n",
       "    </tr>\n",
       "    <tr>\n",
       "      <th>4</th>\n",
       "      <td>Petter Mattei's \"Love in the Time of Money\" is...</td>\n",
       "      <td>1</td>\n",
       "    </tr>\n",
       "  </tbody>\n",
       "</table>\n",
       "</div>"
      ],
      "text/plain": [
       "                                              review  sentiment\n",
       "0  One of the other reviewers has mentioned that ...          1\n",
       "1  A wonderful little production. <br /><br />The...          1\n",
       "2  I thought this was a wonderful way to spend ti...          1\n",
       "3  Basically there's a family where a little boy ...          0\n",
       "4  Petter Mattei's \"Love in the Time of Money\" is...          1"
      ]
     },
     "execution_count": 17,
     "metadata": {},
     "output_type": "execute_result"
    }
   ],
   "source": [
    "df.head()"
   ]
  },
  {
   "cell_type": "code",
   "execution_count": 18,
   "id": "7a54487d",
   "metadata": {},
   "outputs": [],
   "source": [
    "X = df['review']\n",
    "y = df['sentiment']"
   ]
  },
  {
   "cell_type": "code",
   "execution_count": 19,
   "id": "c89ba431",
   "metadata": {},
   "outputs": [
    {
     "data": {
      "text/plain": [
       "0     One of the other reviewers has mentioned that ...\n",
       "1     A wonderful little production. <br /><br />The...\n",
       "2     I thought this was a wonderful way to spend ti...\n",
       "3     Basically there's a family where a little boy ...\n",
       "4     Petter Mattei's \"Love in the Time of Money\" is...\n",
       "                            ...                        \n",
       "95    Daniel Day-Lewis is the most versatile actor a...\n",
       "96    My guess would be this was originally going to...\n",
       "97    Well, I like to watch bad horror B-Movies, cau...\n",
       "98    This IS the worst movie I have ever seen, as w...\n",
       "99    I have been a Mario fan for as long as I can r...\n",
       "Name: review, Length: 100, dtype: object"
      ]
     },
     "execution_count": 19,
     "metadata": {},
     "output_type": "execute_result"
    }
   ],
   "source": [
    "X"
   ]
  },
  {
   "cell_type": "code",
   "execution_count": 20,
   "id": "eab1196a",
   "metadata": {},
   "outputs": [
    {
     "data": {
      "text/plain": [
       "0     1\n",
       "1     1\n",
       "2     1\n",
       "3     0\n",
       "4     1\n",
       "     ..\n",
       "95    1\n",
       "96    0\n",
       "97    0\n",
       "98    0\n",
       "99    1\n",
       "Name: sentiment, Length: 100, dtype: int32"
      ]
     },
     "execution_count": 20,
     "metadata": {},
     "output_type": "execute_result"
    }
   ],
   "source": [
    "y"
   ]
  },
  {
   "cell_type": "code",
   "execution_count": 21,
   "id": "a8e86d2e",
   "metadata": {},
   "outputs": [],
   "source": [
    "# removing all special and numeric character from the data and also remove stopwords and apply stemming"
   ]
  },
  {
   "cell_type": "code",
   "execution_count": 22,
   "id": "f213a6f6",
   "metadata": {},
   "outputs": [],
   "source": [
    "# for stlyling only\n",
    "from tqdm import tqdm"
   ]
  },
  {
   "cell_type": "code",
   "execution_count": 23,
   "id": "49243191",
   "metadata": {},
   "outputs": [],
   "source": [
    "import nltk\n",
    "from nltk.stem import PorterStemmer\n",
    "from nltk.corpus import stopwords\n",
    "import re"
   ]
  },
  {
   "cell_type": "code",
   "execution_count": 24,
   "id": "e59ff100",
   "metadata": {},
   "outputs": [
    {
     "name": "stderr",
     "output_type": "stream",
     "text": [
      "100%|████████████████████████████████████████████████████████████████████████████████| 100/100 [00:03<00:00, 31.30it/s]\n"
     ]
    }
   ],
   "source": [
    "ps = PorterStemmer()\n",
    "corpus = []\n",
    "\n",
    "for i in tqdm(range(len(X))):\n",
    "#     print(i, end=', ')\n",
    "    review = re.sub(\"[^a-zA-Z]\",\" \",X[i])\n",
    "    review = review.lower()\n",
    "    review = review.split()\n",
    "    review = [ps.stem(word) for word in review if word not in set(stopwords.words(\"english\"))]\n",
    "    review = \" \".join(review)\n",
    "    corpus.append(review)"
   ]
  },
  {
   "cell_type": "code",
   "execution_count": 28,
   "id": "27692b80",
   "metadata": {},
   "outputs": [
    {
     "name": "stdout",
     "output_type": "stream",
     "text": [
      "['one review mention watch oz episod hook right exactli happen br br first thing struck oz brutal unflinch scene violenc set right word go trust show faint heart timid show pull punch regard drug sex violenc hardcor classic use word br br call oz nicknam given oswald maximum secur state penitentari focus mainli emerald citi experiment section prison cell glass front face inward privaci high agenda em citi home mani aryan muslim gangsta latino christian italian irish scuffl death stare dodgi deal shadi agreement never far away br br would say main appeal show due fact goe show dare forget pretti pictur paint mainstream audienc forget charm forget romanc oz mess around first episod ever saw struck nasti surreal say readi watch develop tast oz got accustom high level graphic violenc violenc injustic crook guard sold nickel inmat kill order get away well manner middl class inmat turn prison bitch due lack street skill prison experi watch oz may becom comfort uncomfort view that get touch darker side', 'wonder littl product br br film techniqu unassum old time bbc fashion give comfort sometim discomfort sens realism entir piec br br actor extrem well chosen michael sheen got polari voic pat truli see seamless edit guid refer william diari entri well worth watch terrificli written perform piec master product one great master comedi life br br realism realli come home littl thing fantasi guard rather use tradit dream techniqu remain solid disappear play knowledg sens particularli scene concern orton halliwel set particularli flat halliwel mural decor everi surfac terribl well done', 'thought wonder way spend time hot summer weekend sit air condit theater watch light heart comedi plot simplist dialogu witti charact likabl even well bread suspect serial killer may disappoint realiz match point risk addict thought proof woodi allen still fulli control style mani us grown love br br laugh one woodi comedi year dare say decad never impress scarlet johanson manag tone sexi imag jump right averag spirit young woman br br may crown jewel career wittier devil wear prada interest superman great comedi go see friend', 'basic famili littl boy jake think zombi closet parent fight time br br movi slower soap opera suddenli jake decid becom rambo kill zombi br br ok first go make film must decid thriller drama drama movi watchabl parent divorc argu like real life jake closet total ruin film expect see boogeyman similar movi instead watch drama meaningless thriller spot br br well play parent descent dialog shot jake ignor', 'petter mattei love time money visual stun film watch mr mattei offer us vivid portrait human relat movi seem tell us money power success peopl differ situat encount br br variat arthur schnitzler play theme director transfer action present time new york differ charact meet connect one connect one way anoth next person one seem know previou point contact stylishli film sophist luxuri look taken see peopl live world live habitat br br thing one get soul pictur differ stage loneli one inhabit big citi exactli best place human relat find sincer fulfil one discern case peopl encount br br act good mr mattei direct steve buscemi rosario dawson carol kane michael imperioli adrian grenier rest talent cast make charact come aliv br br wish mr mattei good luck await anxious next work', 'probabl time favorit movi stori selfless sacrific dedic nobl caus preachi bore never get old despit seen time last year paul luka perform bring tear eye bett davi one truli sympathet role delight kid grandma say like dress midget children make fun watch mother slow awaken happen world roof believ startl dozen thumb movi', 'sure would like see resurrect date seahunt seri tech today would bring back kid excit grew black white tv seahunt gunsmok hero everi week vote comeback new sea hunt need chang pace tv would work world water adventur oh way thank outlet like view mani viewpoint tv mani movi ole way believ got wanna say would nice read plu point sea hunt rhyme would line would let submit leav doubt quit must go let', 'show amaz fresh innov idea first air first year brilliant thing drop show realli funni anymor continu declin complet wast time today br br truli disgrac far show fallen write pain bad perform almost bad mildli entertain respit guest host show probabl still air find hard believ creator hand select origin cast also chose band hack follow one recogn brillianc see fit replac mediocr felt must give star respect origin cast made show huge success show aw believ still air', 'encourag posit comment film look forward watch film bad mistak seen film truli one worst aw almost everi way edit pace storylin act soundtrack film song lame countri tune play less four time film look cheap nasti bore extrem rare happi see end credit film br br thing prevent give score harvey keitel far best perform least seem make bit effort one keitel obsess', 'like origin gut wrench laughter like movi young old love movi hell even mom like br br great camp', 'phil alien one quirki film humour base around odd everyth rather actual punchlin br br first odd pretti funni movi progress find joke odd funni anymor br br low budget film that never problem pretti interest charact eventu lost interest br br imagin film would appeal stoner current partak br br someth similar better tri brother anoth planet', 'saw movi came recal scariest scene big bird eat men dangl helplessli parachut right air horror horror br br young kid go cheesi b film saturday afternoon still tire formula monster type movi usual includ hero beauti woman might daughter professor happi resolut monster die end care much romant angl year old predict plot love unintent humor br br year later saw psycho came love star janet leigh bump earli film sat took notic point sinc screenwrit make stori make scari possibl well worn formula rule', 'im big fan boll work mani enjoy movi postal mayb im one boll appar bought right use far cri long ago even game even finsish br br peopl enjoy kill merc infiltr secret research lab locat tropic island warn far cri someth mr boll scheme togeth along legion schmuck feel loneley set mr boll invit three countrymen play player go name til schweiger udo kier ralf moeller br br three name actual made self pretti big movi biz tale goe like jack carver play til schweiger ye carver german hail bratwurst eat dude howev find til act movi pretti badass peopl complain realli stay true whole carver agenda saw carver first person perspect realli know look like kick br br howev storylin film beyond dement see evil mad scientist dr krieger play udo kier make genet mutat soldier gm call perform top secret research island remind spoiler vancouv reason that right palm tree instead got nice rich lumberjack wood even gone far start cri meheh cannot go wanna stay true boll shenanigan go see movi disappoint deliv true boll experi mean suck br br thing worth mention would impli boll good work area film nice boat fight scene whole crome albino gm squad enter scene everyth make laugh movi far cri reek scheiss poop simpleton fa r wanna take wiff go ahead btw carver get annoy sidekick make wanna shoot first three minut screen', 'cast play shakespear br br shakespear lost br br appreci tri bring shakespear mass ruin someth good br br scottish play favorit shakespear know know certain rev bowdler henc bowdler tri someth similar victorian era br br word cannot improv perfect br br write write least ten line text english composit never fort keep go say movi say goe cut', 'fantast movi three prison becom famou one actor georg clooney fan roll bad anoth good thing movi soundtrack man constant sorrow recommand movi everybodi greet bart', 'kind drawn erot scene realiz one amateurish unbeliev bit film ever seen sort like high school film project rosanna arquett think stock charact bizarr suppos midwest town pretti hard get involv one lesson learn brilliant insight stilt quit ridicul lot skin intrigu videotap nonsens bisexu relationship nowher heterosexu encount absurd danc everybodi play stereotyp role give one pass like million mile bad wast film money could spent starv children aid africa', 'film simpli remad one bad film fail captur flavor terror film titl liam neeson excel alway cast hold except owen wilson bring right feel charact luke major fault version stray far shirley jackson stori attempt grandios lost thrill earlier film trade snazzier special effect say bad film enjoy friction terror older version much', 'movi made one top aw movi horribl br br continu minut fight one monster anoth chanc charact develop busi run one sword fight anoth emot attach except big bad machin want destroy br br scene blatantli stolen movi lotr star war matrix br br exampl br br ghost scene end stolen final scene old star war yoda obe one vader br br spider machin begin exactli like frodo attack spider return king elijah wood victim film wait hypnot sting victim wrap uh hello br br whole machin vs human theme matrix termin br br exampl wast time someon tell nazi nazi br br juvenil stori line rush juvenil conclus movi could decid children movi adult movi much either br br aw real disappoint say least save money', 'rememb film first film watch cinema pictur dark place nervou back dad took brother sister newburi cinema newburi berkshir england recal tiger lot snow film also appear grizzli adam actor dan haggeri think one tiger get shot die anyon know find dvd etc pleas let know cinema turn fit club big shame nearest cinema mile away would love hear other seen film like', 'aw film must real stinker nomin golden globe taken stori first famou femal renaiss painter mangl beyond recognit complaint taken liberti fact stori good would perfectli fine simpli bizarr account true stori artist would made far better film come dishwat dull script suppos enough nake peopl factual version hurriedli cap end summari artist life could save coupl hour favor rest film breviti', 'success die hard sequel surpris realli glut die hard movi cash wrong guy wrong place wrong time concept cliffhang die hard mountain time rescu sli stop mom shoot stallon career br br cliffhang one big nit picker dream especi expert mountain climb base jump aviat facial express act skill full excus dismiss film one overblown pile junk stallon even manag get act hors howev forget nonsens actual lovabl undeni entertain romp deliv plenti thrill unintent plenti laugh br br got love john lithgow sneeri evil tick everi box band baddi best perman harass hapless turncoat agent rex linn traver br br may henri portrait serial killer michael rooker noteworthi cring worthi perform hal insist constantli shriek pain disbelief captor man never hurt anybodi whilst sure realli look like ralph wait frank charact grin girl plummet death br br mention must go former london burn actor craig fairbrass brit bad guy come cropper whilst use hal human footbal ye help enjoy bit hal need good kick br br forget better judgement care could never happen lower act expect turn volum enjoy look qaulen one wear helicopt', 'terribl misfortun view b movi entireti br br say save time money got worst b movi time even call b movi like f movi fail aspect make good movi stori interest actor paper thin believ bad direct action sequenc fake almost funni almost br br movi pack full crappi one liner respect person could find amus least littl bit br br movi suppos gear toward men women utterli unattract especi old wrinkl thing come toward end tri appear sexi weird horribl costum fail miser br br even ridicul b movi still give laugh pain watch', 'absolut stun movi hr kill watch regret much fun rajnikanth carri movi shoulder although anyth still like music r rehman take time grow heard time realli start like', 'first let get thing straight anim fan alway matter fact use watch speed racer time preschool b like sever b movi hilari c like godzilla movi lot br br move movi first come seem like go usual b movi crappi fx sudden boom anim come movi goe wwwaaaaayyyyy downhil br br anim bad cheap even wors rememb speed racer crissak fact cheap one scene movi vividli rememb bunch kid run school kid fx terribl dinosaur look wors godzilla addit transit live action anim unorgan dialogu voic especi english dub view horrid beg dad take tape dvd vh player thing kept surviv crack joke comment like robot joel mike mst k pick season honestli way bare enjoy movi surviv time br br heck plan show anoth fellow otaku pal mine halloween b movi night stupid pretti pain watch unintent hilari time give movi improv origin go give br br accord grade scale mean pretti much bore bad fun count three unless find way make fun becom fun count', 'worst movi saw worldfest also receiv least amount applaus afterward think receiv recognit base amount known actor film great see j beal movi minut parker much better actress part allow rest act hard judg movi ridicul predict main charact total unsympathet therefor bore watch real emot depth stori movi revolv actor get work feel origin develop cop feel like one mani straight video movi saw back even good one standard br br', 'karen carpent stori show littl singer karen carpent complex life though fail give accur fact detail br br cynthia gibb portray karen fine elect good actress play naiv sort dumb karen carpent think role need stronger charact someon stronger person br br louis fletcher role agn carpent terrif great job karen mother br br great song could includ soundtrack album unfortun though movi top rate usa sever countri', 'cell exot masterpiec dizzi trip vast mind serial killer also one talent director conclus evid achiev human be unleash uninhibit imagin bold work push asid thought fall formula clich creat someth truli magnific best movi year date br br read numer complaint film anywher style substanc poorli cast charact bad act neg critic film miss point movi may landmark tradit futur movi hope follow cell open door anoth world imagin slam door face tell director tarsem singh want person would welcom anoth movi tarsem would love see someon tri challeng br br heard talk go insid mind serial killer ye agre genr bit overwork full movi tri depict make serial killer tick work fail cell blaze trail given new twist physic transport mind present noth less fascin journey mysteri subject matter ever studi br br like movi bog us much scientif jargon tri explain jennif lopez actual get enter brain anoth instead lie laboratori tabl wrap look like realli long twizzler jaunt anoth entiti cell want let see guess peopl like true like explan movi movi ventur onto new ground must let desir simpli take br br notic film dark show realiti mayb contrast bright visual insid brain anoth nonetheless set design simpli astonish surpris film took home oscar cinematographi best costum best director like least get nomin best pictur br br notic kind repeat noth els say stress enough fantast thought cell walk movi open mind taken wonder eye pop feast assur good time guess film littl much peopl write weird crazi much psycholog imagin human mind right alley leav theater heard one audienc member say whoever made movi sure lot good drug want smoke br br', 'film tri mani thing sting polit satir hollywood blockbust sappi romant comedi famili valu promo list goe fail miser enough interest keep turn end br br although appreci spirit behind war inc depress see clumsi effort especi taken target reflect lack exist seriou critiqu rather simpli poor write direct product particular film br br critiqu made corporat war poke fun way diminish true atroc happen remind bit three king similarli trivial genuin caus concern', 'movi frustrat everyth seem energet total prepar good time least thought abl stand wrong first weird loop like watch america funniest home video damn parent hate much stereo typic latino famili need speak person respons need talk littl girl alway hang someon hate mention final scene transcend must say glorious bad full bad movi crappi danc horribl beauti', 'war movi hollywood genr done redon mani time clich dialogu rehash plot top action sequenc seem unavoid conflict deal larg scale combat howev war movi come along goe grain bring truli origin compel stori life silver screen civil war era cold mountain star jude law nicol kidman ren e zellweg film br br call cold mountain war movi entir accur true enough film open quit liter quick dirti battl sequenc put glori director edward zwick shame howev cold mountain much civil war period peopl time stori center around disgruntl confeder soldier inman play jude law becom disgust gruesom war homesick beauti hamlet cold mountain north carolina equal beauti southern bell left behind ada monro play nicol kidman first glanc setup appear formula romant interest back home give audienc enough sympathi root reluct soldier tribul battlefield inde earlier segment film rel unimpress even somewhat contriv br br cold mountain soon take drastic turn though intrepid hero inman turn desert incident save audienc potenti confus scenario want root confeder begin long odyssey homeward meanwhil back farm ada cultur way prove littl use field soon transform someth wilderbeast come ada rescu cours tough nail rubi thew play ren e zellweg help ada put farm back togeth perhap importantli cope loneli isol war seem brought upon ada br br within two set vivid compel time disturb portrait war torn south unfold charact inman ada interact surprisingli complex enhanc wonder perform brendan gleeson rubi deadbeat father ray winston unrepent southern lawman natali portman deepli troubl isol young mother greatli affect chang war northern aggress mostli wors dark pervad anti war messag accent effect haunt score chillingli beauti shot virginia north carolina commun audienc much gruesom battl scene scar land traumat peopl war fought though weapon tactic war chang much past centuri hellish effect land timelessli relev br br director anthoni minghella manag maintain gloomi mood film atmospher unfortun denigr rather tepid climax littl justic wonder form charact love stori inman ada awkwardli tack onto begin end film though inher distant abstract even absurd natur relationship way fit dismal natur rest plot br br make mistak cold mountain neither trait feel good romanc inspir war drama uniqu vision era sure entertain also truli absorb audienc live peopl torn apart war entir desper rid terribl repercuss altogeth', 'taut organ grip edward dmytryk crossfir distinct suspens thriller unlik messag movi use look devic noir cycl br br bivouack washington dc compani soldier cope restless hang bar three end stranger apart robert ryan drunk belliger beat host sam leven death happen jewish polic detect robert young investig help robert mitchum assign ryan outfit suspicion fall second three georg cooper vanish ryan slay third buddi steve brodi insur silenc young close br br abet superior script john paxton dmytryk draw precis perform three star bob ryan natur prototyp angri white male hilt mitchum underplay characterist alert nonchal role howev central young may never better gloria graham give first fulli fledg rendit smart mouth vulner tramp sad sack leech life paul kelli haunt us small peripher role make memor br br polit engag dmytryk perhap inevit succumb sermon pretti much confin young reminisc irish grandfath die hand bigot centuri earlier thu incident stretch chronolog limit least attempt render explan howev glib ryan hate jew hillbilli br br curious crossfir surviv even major chang wrought upon novel base richard brook brick foxhol dealt gay bash murder homosexu still beyond pale news holocaust howev begun emerg ash europ hollywood felt embolden regist protest anti semit studio alway quak prospect offend potenti ticket buyer br br chang homophobia anti semit work gener specif fit smoothli victim chat lonesom drunk young soldier invit back home look odd even though especi sinc girlfriend tow rais question whether scenario retain inadvert left discreet tip origin engin gener ryan murder rage', 'ardh satya one finest film ever made indian cinema direct great director govind nihalani one success hard hit parallel cinema also turn commerci success even today ardh satya inspir lead director india br br film tell real life scenario mumbai polic unlik polic citi india mumbai polic encompass differ system altogeth govind nihalani creat practic outlay real life approach mumbai polic environ br br amongst variou polic offic colleagu film describ stori anand velankar young hot blood cop come poor famili father harsh polic constabl anand suffer father ideolog incid father atroc mother anand approach toward immedi action crime inert crave job satisfact film revolv plot wherein anand constant effort crime trampl senior lead frustrat cannot achiev desir job satisfact result frustrat anger express excess violenc remand room bar also turn alcohol br br spirit within still aliv constantli fight system awar system metro polic politician inertli associ far end compromis toward uneth practic neg final get suspend br br direct master piec thoroughli hard core one best memor scene anand break underworld gangster rama shetti hous arrest follow short convers fantast mani scene film hair rais moment br br practic approach script major punch alcohol corrupt polit influenc courag decept integr part mumbai polic even today aspect dealt brilliantli br br final film belong one man show om puri portray anand velankar travers emot absolut brilliantli', 'first exposur templario good one excit find titl among offer anchor bay video brought us cult classic spider babi print qualiti excel alon hide fact film deadli dull thrill open sequenc villag exact terribl reveng templar set whole thing motion everyth els movi slow ponder ultim unfulfil ad insult injuri movi dub subtitl promis video jacket', 'one signific quot entir film pronounc halfway protagonist mafia middl man titta di girolamo physic non descript middl age man origin salerno southern itali introduc start film live non life eleg steril hotel italian speak canton switzerland last ten year conduct busi gradual introduc pivot yet appar unremark scene take place employe swiss bank normal count di girolamo cash tell dollar miss usual suitcas full tightli stack banknot news quietli icili threaten coax bank manag want close account meanwhil tell us spectat bluff bluff right end without fear caught appear ridicul say bluff halfway tell truth eventu done bluf halfway told truth accept consequ life ultim love exactli reason behind begin titta di girolamo troubl br br initi unsympathet charact scowl taciturn curt man verg man even repli kind chambermaid waitress say hello goodby becom one point someon spectat care deepli one point non life titta decid feel concern appear ridicul first half film may describ slow inde reveal di girolamo day night hotel oddli disjoin deliber pace reveal seemingli mundan irrelev detail howev scene may seem unnecessari reveal essenti master construct innov film unfold eye exist titta di girolamo man imagin ident life unsympathet charact unexpectedli end love feel least thought would also convey elegantli edit sequenc interest use music one theme scottish band board canada especi stood br br never contrast way hollywood itali treat mobster odd sinc releas film le conseguenz dell amor l imbalsamator anoth interest element way film made use protagonist insomnia unlik machinist far explicit way al pacino film insomnia le conseguenz dell amor use condit symbolis deeper emot malais ram deep obscur unconsci almost imposs pin point caus inde one br br young sympathet hotel waitress sofia play olivia magnani grand daughter legendari anna memori titta best friend man seen year unexpectedli provid tini window onto life titta eventu though tent first accept look though never explicitli spelt spectat know man like titta accept consequ love unimagin consequ film without singl scene sex violenc film unfold time conced noth spectat expect le conseguenz dell amor fine repres small quiet discreet renaiss take place italian cinema sinc declin cinecitt second half world wait itali produc il postino like fare la vita bella style film neglect explor fine creation like le conseguenz dell amor l imbalsamator other loss world', 'watch film realli expect much got pack film pretti terribl way fiver could expect know right terribl movi stretch interest point occasion camcord view nice touch drummer like drummer e damn annoy well that actual problem bore assum attempt build tension whole lot noth happen utterli tediou thumb fast forward button readi press movi gave go serious lead singer band great look coz half mention beauti hell lot thought look bit like meercat even mention killer even gonna go worth explain anyway far concern star london reason watch except london actual quit funni act talent certainli seen lot wors also seen lot better best avoid unless bore watch paint dri', 'bought film blockbust sound interest bit ranma esqu idea someon drag around skeleton cute girl mini skirt back restrict view sticker thought go sweet least sincer come age stori weird indi edg wrong br br watch wonder got restrict sticker sinc hardli foul languag littl violenc closest thing nuditi honestli usual go around hope girl nightgown see panti see panti lot movi matter wear miniskirt sort even anti religi humor tame lame caricatur insincer deriv unorigin worst funni slightest would better listen ray steven would jesu wear rolex televis show would bare qualifi pg rate blockbust refus let anyon age rent pornograph littl kid could go rent edit version requiem dream insist zack reba wors br br way br br way worri thing left could offend peopl idea suicid begin anybodi need see movi honestli portray suicid one better one like virgin suicid teenag movi rate r pure suicid aspect littl chanc turn stori write pg movi main charact eleven half twelv suicid one top three lead caus death teenag think number chanc teen affect br br say movi though', 'plot death littl children hopper one investig kill movi appear troubl daughter end serial killer get caught find dunnit see terribl act actor unbeliev bad actor includ hopper could go like much wast time watch movi warn', 'ever watch movi lost plot well even realli one begin br br begin achingli tediou scene heroin sit around hous actual sens menac even forebod creat even appar constant thunderstorm strang never actual heard hous great doubl glaze hous appar mile town yet sever hour walk away third girl serv purpos plot except provid surprisingli quick gori murder tedium becom unbear even begin suggest spate kill throughout area even though appar killer never ventur far hous bizarr ritual salt pepper pretti much sum film inher lack direct br br add lead actress act least will complet irrelev nude shower scene video truli nasti way hope br br given follow simpli ban uk mostli final surprisingli extend murder offer noth curios valu one classic daft murder worri telegraph least ten minut br br walk wood victim come rather steep upward slope obvious struggl halfway see figur top dress black brandish larg scyth slide run like rest us cours struggl top stand conveni nice upright front murder weapon br br realli movi say', 'okay seri kind take rout go week week david mors charact help ride bit pickl wrong david mors one greatest charact actor certainli coolest seri creat david koepp great writer heaven br br due lack love show mani see go season seri never know amount rubbish made beyond baffl let hope someth good make past first seri', 'sit pile dung husband wonder whether actual product experi see whether comput program could produc movi listless formula u propaganda thrown face throughout film prove disappointingli work human call conspiraci theorist quot like steal declar independ protect seem like way justifi action like invas iraq etc fact nichola cage spew line like would never use declar independ bargain chip straight face made husband wonder whether entir cast took valium shoot scene reason behind plot turn new clue truli ridicul imposs follow also bonu side plot misogyni dr whatev name chide involv never shut clearli movi look felt need slap dr titl charact give graviti one point cage charact say ever shut camera pan look poutili hand like child truli grotesqu benefit movi astonishingli bad get laugh realli scari thing major peopl watch movi us seem enjoy creepi', 'clich movi type substanc plot went nowher end movi felt like sucker watch product good howev script act b movi qualiti cast poor good actor mix crumbi actor good actor hold lift other br br movi worthi word say meet minimum requir ten line jame wood cuba good jr play caricatur movi br br look mindless entertain still recommend movi', 'movi base book mani splendor thing han suyin tackl issu race relat asian white topic come han person experi eurasian grow china background beauti hong kong set give love stori uniqu rather dare atmospher time br br stori stereotyp romanc memor song perhap rememb movi beauti jennif jone look part give wonder oscar nomin perform doctor mix breed advent commun mainland china william holden never look better play romant lead journalist cover war torn region world act top notch chemistri two lover provid genuin moment silver screen affect sure melt heart romant inclin br br cinematographi realli bring fifti hong kong especi hilltop overlook harbor two lover spend intim moment end real tear jerker may consid sentiment romanc pass enjoy classic hollywood love stori shine exampl', 'film seen one rage got one worst yet direct logic continu chang plot script dialog made cri pain could anyon come someth crappi gari busey know b movi sure w movi w wast br br take exampl two dozen fbi local law offic surround trailer hous jeep wagon insid jeep confus cop within second huge gun battl ensu kill straight cop blast away jeep gari compani blast away cop fall like domino jeep gari drive around circl hit one singl bullet pellet kill gari seem notic damn guy tough truli miracl sinc six shooter held bullet miracl', 'heard good thing state grace came open mind thought god armi okay thought mayb dutcher improv matur filmmak film began shaki act thought well mayb get better unfortun never pictur start introduc two elder mormon missionari seem audienc get know grow care instead stori degener highli improb seri unfortun event highlight blatant disobedi missionari someth undeni exist rare level dutcher portray becom almost laughabl br br dutcher success movi success alien target audienc unrealist inaccur portray live mormon missionari dutcher accomplish noth anger predominantli mormon audienc film way reflect realiti mission noth like dutcher show serv mormon mission attest fact gang life california certainli contain much explicit languag occasion mild vulgar br br conclus assum suppos touch audienc inspir believ forgiv avail unbeliev c mon entir mission gather see elder sent home mom girl stand right next cheesi next time dutcher tri make movi someon identifi', 'movi struck home rememb father work factori figur work hard pride never gave could american dream hous kid car call note howev without degre someth unlik father quit ninth grade keen sens greed lazi get anywher br br would like know anyon movi dvd vh made tv saw hour ago ic find anywher love show friend pseudo friend famili rel see think remind upon time american would work sake feel honor pride accomplish think feel still heavi downward spiral mani thing made oversea', 'disclaim seen movi time last year saw music week allow judg movi without taint music howev taint watch music br br actual believ michael dougla work quit well role along kasey think let danc scene one best part movi worthwhil addit compar music dancer sing movi much superior music well cast least time bigger easier movi cours decor light danc sing also much superior movi expect inde deliv br br song common music better done movi new one quit good one whole movi deliv music opinion especi compar music decor one bad point movi obviou cut actor talk dub singer sing portion charact danc impecc end product enjoy music', 'protocol implaus movi whose save grace star goldi hawn along good cast support actor stori revolv around ditzi cocktail waitress becom famou inadvert save life arab dignitari stori goe downhil halfway movi goldi charm save movi unless goldi hawn fan go way see film', 'film could classifi drama idea john voight mari steenburgen would tri eras cv histor accur xena hercul abraham mose got meld noah lot abraham nephew lot turn thousand year would born canaanit wander earth realli scriptwrit think ignor rememb someth noah anim lot canaanit stuff sunday school tri offend maximum number peopl planet possibl christian jew muslim historian archaeologist geologist psychologist linguist matter fact anyon get offend anyon even modicum tast would winc one', 'preston sturgi power glori unseen public nearli twenti thirti year late resurfac even show televis meantim gain notorieti paulin kael citizen kane book suggest herman mankiewicz orson well screenplay kane base sturgi screenplay mention begin thread film imdb web site kael overst case br br six narrat take turn deal life charl foster kane newsreel repres ralston henri luce clone thatcher memoir bernstein jed leland susan alexand kane raymond butler differ slant kane reflect faith disappoint hatr man cours also reveal fail tell version kane stori method also lead frequent overlap tell incid br br situat power glori ye like kane legendari busi leader tom garner spencer traci man rose bottom head success railroad system countri two narrat garner right hand man henri ralph morgan wife sarah padden restrict nearli three dimension view get time kane garner henri narrat talk boss friend respect love wife like voic skeptic public see flaw henri br br typic exampl although work way tom becom anti labor later year union troublemak care slow shenanigan henri describ tom confront union major walk preoccupi detriment home life henri wife remind tom use scab violenc end strike appar blow union headquart kill mani peopl two view man one pure white one pure black br br realli knock power glori duplic kane success film includ orson well film awar stori present well enough hold one interest end thank perform traci colleen moor wife salli tragedi worldli success pair fulli brought home br br marri tom want well part give wife famili benefit never america great busi success come cost tom get deepli involv run railroad empir expand improv constantli take away home much lose touch salli also notic eve helen vinson younger woman becom mistress salli learn unfaith behavior destroy br br similarli tom get full shock make martyr eye henri eve marri tom present son turn eve son tom son tom jr philip trent discoveri incestu cuckold caus tom shoot br br film total success action jump time unconvincingli yet make busi seem real note scene tom tell board director plan purchas small rival train line discuss use debentur financ plan sturgi came wealthi background could bring type detail whole first rate film citizen kane perhap interest movi lover attempt busi realism social commentari depress america', 'averag surprisingli tame fulci giallo mean still quit bad normal standard redeem solid build nice touch neat time twist issu vision clairvoy br br genr well known weak full gear banal dialogu wooden act illog plot point final goe much long denouement prove rather lame shall say limp affair br br fulci iron handl giallo norm amus though yellow clue wherev look br br limp killer', 'return th chamber one classic kung fu movi shaw produc back whose genr equival spaghetti western hollywood protagonist gordon liu counterpart western clint eastwood digit remast new print made fantast film fest present shaw scope like good old day br br film simpl stori good versu evil told act less sum narr martial art film era br br act one set premis worker dye mill small villag unhappi lot wage cut incom manchu gangster much exploit none martial art skill take gangster boss first minor success get liu imperson highli skill shaolin monk one best comedi sequenc rous got expos push limit credibl imperson one mani time br br act two show protagonist want get back mob howev without real martial art embark journey shaolin templ tri infiltr learn martial art sli slapstick moment final get accept abbot imperson disappoint teach method kinda like mr miyagi style karat kid instead paint fenc get erect scaffold around templ noth keep good man unwittingli build strength endur learn kung fu unorthodox way br br act three fight fest begin cheesi sound effect obviou non contact film given maximum impact treatment rather refresh watch fight scene wide angl shot highlight clariti detail spar partner use slow motion showcas stunt differ angl may find speed fight tad slow paus move yuen wo ping style use ad nausem hollywood flick sure make fight scene like use return th chamber get repeat screen monday game nostalg trip memori lane wait', 'spoiler real life well movi familiar stori happen mani young men put war zone gun rifl hand case young innoc never handl fire gun jimmi davi franchot tone repeat thousand time centuri men like jimmi davi forc take arm countri br br jimmi first want kick us armi encourag stay belt mouth good friend fred p willi spencer traci end front line franc jimmi unit pin german machin gun nest singl handedli put commiss pick half dozen german soldier safeti nearbi church steepl jimmi gun last surviv german rais arm surrend artilleri shell hit steepl serious wound br br recov wound armi hospit jimmi fell love us armi volunt nurs rose duffi gladi georg rose realli love jimmi good friend happi go lucki fred despit obnoxi antic toward fred lost fight western front rose think kill fell love later marri jimmi fred unexpectedli show french town jimmi fulli recov wound station thing got sticki rose alreadi accept jimmi propos marriag br br wwi jimmi marri rose left fred still love bitter resent young man almost accid fred ran jimmi street new york citi discov shock surpris complet chang meek non violent person knew sent war european western front smug sure abil shoot gun jimmi becom top mobster new york citi underworld fred later found wife rose idea jimmi realli involv jimmi tell work law abid inoffens insur adjust br br jimmi life crime came full circl rose found secret life rat polic prevent execut valentin day like massacr gang member dress cop rival mobster trial jimmi came sens admit guilt will face music three year sentenc get life back togeth br br spoiler alert hear rumor fellow convict rose best friend fred affair behind back jimmi broke prison end fugit law fred circu work manger barker jimmi see rose well fred true like trial sudden chang heart thought go back prison least anoth ten year ad sentenc much jimmi jimmi decid end let polic track job heart', 'bela lugosi appear sever low budget chiller monogram studio corps vanish one better one br br bela play mad scientist kidnap young bride kill extract fluid bodi keep age wife look young report doctor stay night home discov respons bride death follow morn report murder polic mad scientist shot drop dead shortli afterward br br got almost everyth movi scientist assist consist old hag hunchback dwarf son thunderstorm spooki passag bela hous bela wife find sleep better coffin rather bed movi br br corps vanish worth look especi bela lugosi fan great fun br br rate star', 'cannot believ enjoy much antholog stori better par link stori surpris end hook alot familiar face keep ask seen forget run time list new line tape minut accord vcr timer imdb space maggot dous campfir special way hike', 'percent nation nitwit still support w bush would well see movi show aftermath french revolut terror strikingli similar post socio polit landscap mayb could stop worri save face take whup deserv realli shame politician ruin countri vote deni right ever vote clearli shown sens charact br br realli stand movi ambigu charact hopelessli doctrinair robespierr haunt empti man simplist reduct ideolog help elucid boundari safeti totalitarian execut murder self defens patriot legalist litmu test aggrav hopeless situat help creat sound like belliger overprivileg retard yale cheerlead know br br wojciech pszoniak blow slovenli deparidieu screen sympathet robespierr plight comfort know shortli film end jaw shot sent guillotin', 'someon alreadi mention board difficult make fake documentari requir tremend skill pace patienc directori distanc plausibl premis narr flow realli believ act aka great act br br case love machin start show faux hand minut mark minut left watch viewer start realiz taken downhil br br director gordon eriksen simpli peak soon fair eriksen problem start earli explain extra began want real doc get fund settl cheaper way make film br br premis peopl secret live post porn websit perhap interest film made eriksen lot tricki stuff pushi host hand held camera zoom graini black white guess elicit sens authent work film confus forc ultim bring believ actor pretti aw dialogu', 'hill eye ii would expect noth cours go oscar nomin film pure entertain lose minut br br plot basic group nation guard traine find battl notori mutat hillbilli last day train desert fight back throughout whole film includ lot violenc basic whole film blood gut constantli fli around throughout whole thing also yet anoth graphic rape scene pointlessli thrown shock audienc br br give hill eye ii pure entertain although even found look watch film went began drag due fact continu tri shock audienc graphic gore occasion jump scene make sure audienc stay awak hill eye ii decent entertain someth pass time bore noth els br br', 'laugh way rotten movi unbeliev woman leav husband mani year marriag breakdown front real estat offic happen offic manag come outsid offer job hilari next thing know two women go yep lesbian noth ring true lifetim women noth better movi clunki dialogu like want spend rest life feel like chanc happi take help wealthi distant mother disapprov daughter new relationship sassi black maid unbeliev year film get made sassi black maid hatti mcdaniel must turn grave woman husband freak want custodi snotti teenag kid sheesh clich left unturn', 'spoiler br br hitchcock success first american film rebecca base upon daphn dumari lush novel gothic romanc intrigu return familiar theme earli british period mistaken ident espionag u settl world war ii larg scale war effort civilian build plane weaponri necessari militia boom film entertain busi began turn paranoid often jingoist thriller war time theme thriller often involv network decept skill oper work shadow among good law abid citizen know director home espionag genr produc jack skirbal approach hitchcock direct properti own dealt corrupt war time sabotag helpless hero thrust vortex coincid mistaken ident darker element narr sharp wit literari maven dorothi parker brief stint hollywood return bohemian root nyc co author script perfect match hitchcock sensibl br br often neglect film tell stori unfortun year old barri kane robert cum work lo angel airplan factori meet new employe frank frye norman lloydd moment later frame commit sabotag flee author believ far fetch stori meet sever charact way soda citi utah final new york citi memor charact includ circu caravan car full help freak popular billboard model patricia martin priscilla lane worst crisi life well nation secur fall madli love cours land hitchcock patricia kidnap suppos saboteur barri fall captor thu ad romant tension mix br br good form outing hitchcock brew nation network demur old ladi averag joe respect businessmen doubl secret agent terrorist harbor crimin pull gun deton bomb keep thing move terrif plot take time move forward ignit culmin one hitchcock memor final look incred life like nyc tourist attract recreat art director hollywood due war time shoot ban public attract saboteur may one hitchcock well known film popular b movi certainli solid engag plenti clever plot twist usual terrif hitchcock villain rememb look hitchcock cameo appear outsid drug store second half film hitchcock origin cameo idea shot fight sign languag deaf wife axe bureau standard practic afraid offend deaf', 'watch dresser even seen dozen year ago br br big movi tri make big splash god brillianc two lead leav speechless albert finney tom courtenay noth less amaz movi br br dresser stori sir age shakespearean actor finney dresser norman courtenay sort valet put product king lear blitz london world war ii two men depend upon sir almost helpless without aid norman cajol wheedl bulli get onstag th perform lear norman live life vicari sir without sir need noth think anyway br br charact driven film plot secondari interact charact requir actor highest calib bring life finney year old complet believ old sick petul bulli brilliant stage actor hiss fume fellow actor even take bow courtenay less convinc minc dresser must sometim act mother valet elderli employ employ realli wrong term use though although technic relationship employ employe time sir norman act like noth much old marri coupl br br ye other cast movi question true star finney courtenay marvel script ronald harwood say fine perform notabl eileen atkin long suffer stage manag madg wonder scene sir madg talk old desir old regret might br br although get talk day worth rememb dresser nomin five academi award best actor nomin finney courtenay best pictur best director peter yate best adapt screenplay br br rememb good movi prepar complet mesmer begin end want see exampl great act huge entertain encourag see dresser', 'happen basic solid plausibl premis decent talent cast somewher movi lose actual never realli got go littl excit find angi realli pregnant find steve martin talent person usual bring lot movi dread entir charact even close import movi make longer realli would like see interact main charact kate angi mayb tri pure comedi unfortun mayb drama comed element think movi could funni sinc actress quit funni way sit think numer scenario would riot', 'watch fingersmith stun see averag rate show br br plot difficult follow seem charact develop randomli appli br br actor adequ process attempt creat twist turn charact render entir one dimension happen stori realli fall flat becom tediou br br case anyon see predict lesbian underton mile way hammer home banal term end film br br end scene disappoint phone anyon sat back went ohhh carpet muncher along must even br br two star tonsil hockey earlier scene least bit raunchi none rest', 'let begin br br movi origin cronenberg movi would usual appear br br intent see certainli jjl one favourit actress love usual cuti br br would say favourit movi still quit interest entertain follow br br rest cast extrem impress kind miscast star array br br recommend confid', 'besid bore scene oppress dark movi tri portray kind moral fell flat messag redeem qualiti top think could make librarian look unglamor', 'unmarri woman name stella bett midler get pregnant wealthi man stephen collin offer marri sens oblig turn flat decid rais kid thing go ok child name jenni trini alvarado becom teenag thing gradual predict becom wors br br seen silent version sound version stella dalla neither one affect much cri easili well made date tri remak stupid idea guess midler enough power incomprehens success beach get made predict bomb stori laughabl date today standard even though midler alvarado give good perform film realli drag bore silli end stephen collin marsha mason good actor help support role flimsi dull realli thought would work see stanwyck version instead give', 'tortur duckl one fulci earlier honestli term stori line better film although typic bloodbath fulci known still uniqu enjoy film br br stori surround small town seri child murder occur color charact involv investig either suspect help investig case includ town polic forc small time report beauti rich ex drug addict young priest mother old man practic witchcraft femal prot g mental handicap townsman deaf mute littl girl peopl interwoven plot creat sever twist turn actual killer reveal br br tortur duckl neither classic giallo typic fulci gore film although contain element old fashion murder mysteri darker subject matter scene graphic violenc although noth nearli strong fulci later work well written film lot twist kept guess end recommend giallo murder mysteri fan anyon look check fulci non splatter film despair tortur still fair share violenc sleaz may put subject child kill one main femal charact strang habit hit young boy also kind disconcert type materi bother definit give one look', 'busti beauti staci randal play pvc clad bad ass bitch alexandra faith acolyt faust evil entiti trap hell determin free master malevol minx break warehous steal magic gem vital success whilst conduct satan ritual summon faust silli mare accident enter pentagram drawn floor result loss gem releas two diminut troll like creatur call lite dark br br alexandra must find replac gem go easi stone trick worn around neck ex lover polic detect jonathan grave peter liapi investig warehous robberi know well evil alexandra capabl meanwhil wise crack inter dimension half pint lite dark get sort zani troubl tri find way back home br br warp movi world jim wynorski femal big breast babe fashion sens cheap hooker ghouli iv except everi woman film whether polic captain curat antiqu mental patient asylum hot hot hot wear lot fact make otherwis total unwatch piec stv crap bearabl br br warn even though presenc semi nake qualiti crumpet make go slightli easier still plenti film warrant label ordeal act wooden dialogu pain black humour dvd blurb describ funni knee knacker comed banter lite dark particularli cring worthi special effect bargain basement consist rubberi creatur visual effect would look date ten year earlier br br sole high bimbo quotient', 'realli like salman kahn realli disappoint seen movi much plot appeal salman howev look good movi look young refresh worth price dvd music bad quit nice usual indian movi least two three hour long short movi indian film american actress play movi televis hit seri hero ali larter act lot desir howev look good indian dress wore movi lot desir hope salman lot better next movi thank', 'sure produc need trade name somewhat success movi franchis titl suggest sequel first three movi even though marqu houston appear hp play total differ charact eight year older film okay reid martin talent carri film trade hp franchis seem could made sort refer albeit minor earlier movi sure everyon want see hoodwink think see sequel total differ film familiar name sorri kym whitley funni could hold candl late robin harri ketti lester dc curri earlier film although meagen good mari morrow substanti visual divers give thumb name film last minut would ok furthermor hudlin brother produc first three movi involv make film', 'film labour along predict stori line shallow charact ever seen writer obvious bought playbook write space disast movi follow play play particular stereo typic use astronaut talk love one outer space put brave show face disast done time time br br max q appear written hope produc would throw million project judg latter half film contain numer lame attempt special effect produc could muster thousand learn film nomin special visual effect emmi absolut gob smack br br think hand high school student pass media studi could creat believ effect br br plot hole numer mention pick one exampl nasa expert sure highli implaus worker attach shuttl simul would suddenli hold posit power control room thing start go pear shape program sure someon experienc mission control program director would call rather twenti nine year old control room br br save grace film work bill campbel manag make good attempt salvag someth train wreck script br br give film averag work bill campbel lead role save lower mark', 'caddyshack two good movi compar origin cant stack robert stack horribl replac ted knight jacki mason funni cant compet rodney dangerfield ty webb funni charact origin charact movi lack punch origin henri wilcoxon exampl except hystericli funni lawyer peter blunt play randi quaid everi line say remind origin humor especi scene offic go law suit motion find live come hous beat door f ing basebal bat make bonfir chippindal mayb roast golden retriev arff arff arff eat comin upstair junior grab brook brother pj cram brand new bmw tight understand offset small role howev dan acroyd obvious replac bill murray voic beyond irrit everyth isnt even funni stupid overal caddyshack ii good movi comparison awesom origin cant cut', 'honestli short film suck dummi use necro scene pretti well made still phoni enough look ruin view experi unearth dvd crisp clear made mind help hinder film littl graini might ad creepi factor go idea film much hype surround subject matter honest necrophilia scene film like nekromantik visitor q among other shock aftermath talk film loneli manner deep philosophi bull expens beauti film turd shock disgust insist view rent give fact mani peopl make explicit movi necrophilia definit bigger select us sicko film good gore watch rubberi look doll get cut open consid gore absolut noth go hype mess hand genesi cerda sequel aftermath avail doubl featur releas unearth film absolut masterpiec short film realli show good director cerda realli given right materi although care aftermath genesi well made forgiv cerda definit keep eye futur', 'thought mukhsin wonder written entertain tonn subtl messag think yasmin tri bring across ye might confus especi watch sepet gubra time br br bet u notic use charact two movi right realli iron charact relat like bossi neighbour prostitut gubra chick snooker pad turn religi wife piou man futur br br absolut love voic over crude yet awakeningli fresh like took shot rumah tumpangan gamin signboard suddenli mukhsin voic say bismillahhirrahmannirrahim scene climb tree br br captur malaysian attitud mild way snigger pathet portray charact exampl even kid realli sharp tongu complet shrill annoy voic simpli bad mouth ppl movi long busybodi talk ppl ur life sort br br say movi total reach expect exceed br br kept glu screen even take eye even make cinema ha ha', 'golf fan mean may pm movi start scene late old movi like golf howev within first scene young boy harri vardon awaken voic men goe outsid inquir told go build golf someth turn televis someth stir back movi excel see young boy man profession golf player haunt vision childhood meet true focu movi franci decis make golf meet mother father want protect class thing obviou period littl eddi loweri caddi encourag word littl push instrument franci win want give away much super pleas see movi', 'upon view tobe hooper gem crocodil develop great interest colleg crocodil nich exploit monster genr look forward wayward produc follow sever sequel delight bonbon camp good ed wood could bring subtl sens flair digniti remark script ed write script room full monke creat crocodil special effect comput need would cast crocki fodder russ meyer breast ren hoek pector implant br br tobe hooper crocki opu referenc movi blood surf chose dish bunch age theme chum bucket movi see look past reveng nerd sequel set find allus homag rip off jaw templ doom indiana jone last crusad convent godzilla jame bond movi also tri find readi tv fade editor gave make sens stock br br disappoint crock get tri sotto voce tenor soliloquy environment crocki appreci quasi captain ahab stori get tour de forc speach perhap come year see crock gallop shootout golden sunset hope monkey flush crocki toilet intern space station midget enjoy exploit waltz zero g monkey midget crocodil bloodsh br br lack whammi bar surf music irk', 'tri epic adventur centuri cast like sh kasugi christoph lee john rhi davi realli perfect b adventur time actual pretti fun swashbuckl adventur even flaw captur interest must felt biggest movi ever peopl made even made modern feel feel old errol flynn movi big adventur movi big thing hollywood afraid feel never old movi hand real feel hate think okay adventur movi realli love soundtrack damn want theme song', 'last hard men find jame coburn outlaw long sentenc break free chain gang friend head mexican border jail safeti coburn mission reveng kill peac offic brought process kill woman br br peac offic charlton heston retir know coburn explain daughter barbara hershey coburn hole shack involv waco like standoff indian woman kill hail bullet fire someth proud collater casualti manhunt br br lest feel sorri coburn let us know full well evil man truli heston usual stalwart hero act honor last hard men go jame coburn blow everyon els screen br br coburn get bright idea make sure heston trail kidnap hershey take indian reserv white author touch know heston make person br br coburn gang includ morgan paull thalmu rasulala john quad larri wilcox jorg rivero heston chri mitchum along son law br br last hard men one nasti brutal western andrew mclaglen direct think may project origin intend sam peckinpaugh sure show lot influenc liber use slow motion accentu violenc lot br br littl peckinpaugh lite last hard men film', 'mayb titl trailer certainli interview dvd director keep say hi kid camera like buffoon expect entrail virgin least bit sleazi fun good sex scene brutal bloodi kill weird japanes penetr turn way sleazi good bad whatev problem one see also italian sexploit flick porno holocaust similar mani respect balanc sex violenc much sex turn prototyp porno even much product qualiti comparison profession porno movi kill scene least littl tack mayb smidgen ingenu creat creatur killer whatev entrail virgin neither safe say pretti soulless movi even one worst ever made horn dog japanes fetishist get girl troubl men brain head br br case given photo team guy take shot girl noth salaci way dens fog stay hous one night pick one one murder credit first director kazuo gaira komizu decid put quota random sex scene earli get splice phone take pick clip one photograph sex one girl elsewher look like anoth movi settl hous wrestl scene poorli choreograph shot yeah realli need see rape kill first rape photograph promis girl job time murder like amato creatur simpli cover mud given stupid facial unknown reason kill men rape women one one br br latter taken consid highlight movi like say howev cro ton best part wretchedli tast salad eye goug scene spike thrown like olymp event scene actual kind cool final entrail overli sex craze girl whose inconsequenti name rememb even becom disappoint correct titl top sex scene becom tediou gaira indulg long take without cutaway everyth japanes censor blur anyway dub actor think seem enjoy enough henc need let speak overal feel entrail virgin lumpi one gawk without shred suspens true horror watch last girl left aliv virgin pictur tri stop murder get last five minut keep throw stick want done hate women mantra eas rid altogeth', 'scene actual attempt depict revolutionari struggl resembl hirsut boy scout troop meander tent swim hole sharif pleas god palanc tri hand fieri oratori sound like kurtz swallow bug display strateg brillianc incorpor map cuba replet smile fishi ocean posit vaudevillian hypothesi bay pig came pass leav us one comic dentistri scene surfeit uppiti hollywood peasant address camera though move train kick passel homoerotic limit castro manic unremit cigar fellatio never trust medv even bust clock right twice day histor aw movi', 'film took surpris make habit find littl possibl film attend trailer review provid spoiler spoiler knew upon enter theater documentari long marri coupl imdb reader gave rotten tomato user rank critic averag amaz anyth underr littl gem br br filmmak doug block decid record parent poster begin film treat requisit interview parent outspoken mother mina less forthcom dad mike immedi found coupl interest idea filmmak mike mina son doug go take us matter fact doubt doug knew go br br life take unexpect twist turn beauti express film follow journey difficult verbal move stori uniqu way told absolut rivet begin end realli must see even fan documentari genr film make think life might even evok memori thought long forgotten birch street one rare filmgo experi make deep impress never leav best news hbo hand product instead play limit art hous audienc eventu million peopl chanc view incred piec work bravo', 'stephen hawk geniu king genius watch movi make feel dumb great movi highli entertain intrigu movi center around wheelchair bound stephen hawk man make einstein look averag theori scientif discoveri univers time galaxi black hole everyon sometim anoth realli intens high come moment think v got univers cosmo figur swear soon sober write well man actual held feel six hour man despit suffer lou gehrig diseas becom greatest mind world yet seen watch listen formul theori black hole awesom see', 'stori psychic woman tori return hometown begin reliv traumat childhood past death childhood friend abus father tori discov friend first string murder still occur psychic power help solv crime stop continu murder br br realli need find oh god bad know nora robert fan flock movi give ton rest us see imdb score actual think movi worth watch fool end predict act terribl even get start southern accent stori trite rememb warn', 'oh god must seen twelv ask may young stupid anyon could see bad movi nasti gross unscari silli seen impress effect disneyland seen better perform school play seen convinc crocodil zoo noth sit water ignor children tap glass br br stori set northern australia hand ambiti young peopl tri new water sport surf shark fill water soon becom evid someth danger water learn get help grizzli middl age fisherman want kill anim aveng eat famili br br think seen everi crocodil film made last fifteen year best lake placid wors sequel blood surf would second worst croc flick think primev crocodil tail close behind br br australian saltwat crododil one danger creatur result hundr injuri death everi year movi like blood surf howev ruin feroci imag creatur good hour half viewer life unless realli want see avoid blood surf', 'fate lead walter sparrow come possess mysteri novel eeri similar connect life base around number stori unfold real life fiction sparrow must figur connect book stori eventu end br br number offer intrigu premis undon weak execut film fail mani differ level pretti disappoint held much potenti screenplay probabl worst part fill silli sequenc laughabl dialog kill mood movi seem like screenwrit good idea know develop stretch nineti minut run time second half film run low idea twist pretti obviou end aw br br joel schumach respons one worst movi ever redeem littl phone booth film number remind still capabl make stinker movi drench style get good focu move film clunki slow pace switch realiti actual happen book quickli got annoy actual book film titl number aw detect stori audienc get stuck listen carrey narrat bore tear carrey final done book get stuck watch run around tri solv mysteri point audienc lost interest real tension impati wait movi reach horribl end unconvinc explan celebr film final finish br br act mostli averag pretti forgett jim carrey clearli sleepwalk perform even seem tri either complet top scene wooden narrat complet bore listen put life insid charact virginia madsen best could limit role need pick better script logan lerman pretti bland danni huston overal number aw thriller offer laugh suspens thrill rate', 'brought film joke friend could worst joke play film bare watchabl act dire worst child actor ever use hasslehoff give substandard perform plot disgrac point bore wonder hell go tri gruesom place laughabl br br terribl', 'probabl worst movi ever seen life stupid plot special affect ridicul never seen bad act life good part movi hot guy especi drew fuller know peopl think made movi even want finish whole thing get point movi guy bed touch mean like kind sick twist kiddi porn would advis anyon heard movi interest see forget find anoth movi watch disappoint whole movi complet wast time opinion', 'typic steel novel product two peopl undergon sort tragedi manag get togeth despit odd call spoiler anyon read steel novel know end want know much plot keep read br br gilbert charact ophelia woman french decent lost husband son accid gilbert need stop film requir accent otherwis good actress cannot realist pull kind accent brad johnson also excel actor matt recov rather nasti divorc gentl convinc compel role br br two meet beach daughter pip initi ophelia accus matt child molest talk art kid becom friend episod coupl fall love br br chemistri two lead great even though talent two peopl opinion question best could predict plot script border stereotyp two peopl meet tragedi bigger tragedi secret reveal anoth tragedi get togeth wish nutshel br br want mindless entertain got regard genr romant film one fail memor secret affair janin turner far superior steel book steel earlier book turn film', 'oh noe one attack japanes ghost girl movi even rememb mani seen mayb sell scari japanes horror movi similar sinc first one also pull kid seen pull scene mani time mani horror movi cellphon scene also noth new dramat guy get hit train kinda suck mean lack dramat ok kid listen japanes rock think uniqu let tell million one seen wors miss anyth see', 'nichola walker paul local town reverand marri martha alli sheedi also habitu woman decid fake death run away current affair veronica dara tomanovich howev get bout amnesia henc name film salli kirkland also hand crazi old coot pine good reverand shade miseri type way sad see pretti good cast wast like least bit john savag horridli forgett role shoddi privat investig film bill black comedi one bring element said movi bring former spade sadli contain none latter furthermor emphas charact thu absolut vest interest technic togeth bad movi extrem forgett one br br eye candi dara tomanovich get topless salli kirkland also show skin br br grade c br br saw showtim showcas', 'hollywood movi industri laziest one entir world need singl hit flood theater old crap invent take superhero exampl x man spiderman daredevil elektra ghost rider hulk japanes horror remak even worst took ring pitch perfect mostli mr gore verbinski bring ton look alik creepi woman base horror e g ring eye dark water fine pointless grudg br br first grudg entir bad scari way one could expect plu plot brain mix narr grudg exactli like previou could good thing hey boy men black ii nice thing xerox entir screenplay chang villain grudg critic goe way br br tire scare bad act except amber tamblyn clich place three stori take place differ place time aubrey tamblyn investig drove sister karen sarah michel gellar death allison ariel kebbel taken colleagu visit hous incid depict first movi took place final american famili wit strang stuff happen apart next door glad say mean everyth tie end one must reli end make good pictur everyth els simpli tiresom dull br br chill girl alon locker someon enter hous other dig deep meanwhil ghost keep kill kill kill seem even deadlier ten world war ebola epidem hey seem like anoth bad japanes remak someth call puls yeah day day get easier hold grudg hollywood bullshit', 'periscop librari sinc first arriv vh sinc acquir dvd digit cinema br br quirki flick go militarili overboard either pro con first foremost comedi vehicl main charact quit surpris sequel never offer br br movi gain follow border cult obsess even among young becam awar visit uss drum mobil alabama group cub scout grandson among taken role movi plan reliv overnight board br br fun romp make proud navi hollywood rare compani br br thank kelsey grammar lauren holli rob schneider make could otherwis unremark movi great entertain', 'came alreadi seen film curiou other say br br feel realli profus apolog canadian film ever cross eye moment hear cure retin bleed report everi dozen case br br like everyon els rent movi believ stupid b movi ripoff blade thought sure could use good laugh stupid movi give creator film one posit comment creation thank remov rec xx xx xx bottom right hand corner screen see would distract see movi br br record saw movi watch dialogu incoher scene took place grandmoth trailer swear god br br know write anymor pain', 'deanna durbin nan grey barbara read three smart girl univers film introduc deanna durbin film audienc also star ray milland mischa auer charl winning john king binni barn alic bradi sweet stori three young women live switzerland divorc mother hear father winning marri seen year know mother still love board ship america help housekeep nanni determin stop wed realiz intend call preciou barn noth gold digger aid abet mother bradi arrang introduc wealthi count arrang father account king man choos full time drunk auer girl mistak actual wealthi count milland mess br br delight film cloy overli sugari nice perform particularli auer milland barn bradi young women pretti good work emphasi cours young durbin natur actress beauti train singer fact voic youngster much even would adult troubl high note later put much weight middl voic sing delight il bacio polic station br br one nicest thing film see father play charl winning want children around see get know barn gold digger young girl mother look way infer probabl older man seek youth younger glamor woman fact find youth seek daughter br br univers give durbin big star buildup final shot movi ray milland point still pay due probabl surpris even film fan young attract br br entertain cours led sequel big stardom deanna', 'anyon wonder one make movi like use convers charact simpl theme friendship struggl evolv someth new better differ folk need take film see top notch write direct act meld wonder even observ thing use itali england day time funnel terrif comedi entertain made alfr molina joan plowright polli walker josi lawrenc jim broadbent miranda richardson michael kitchen major role brush stroke direct mike newel actor accomplish vividli memor perform photograph sublim subtl painter eye reminisc theatric bedroom farc turn centuri film might call friendship farc becom worthwhil experi growth romant natur within charact viewer artist telegram import care around us', 'watch seri curios want see could possibl modern technolog cecil b demil classic epic star charleton heston yul brenner sir cedric hardwick cours let ye biblic charact correct give us spectacular theatric scene held interest throughout first movi go mini seri rivot scene burn bush part red sea drown pharoh armi build sethi pyramid could done today technolog scale blockbust movi lord ring matrix obvious want leav last impress faith sacrific much need troubl time', 'daniel day lewi versatil actor aliv english aristocrat snob room view passion irish thief name father impud violent butcher gang new york perform ten time stronger adrian brodi pianist outrag cristi brown cerebr palsi left foot name role influenc eachoth seper utterli uniqu chang complet charact take begin believ act anyth anyth br br cristi brown stun ridicul charact piti charact difficult achiev cristi brown come life smart man outrag man human br br movi despit small scene transit fault like inspir ye predict stupidli sentiment laugh cri singl moment chees proof hollywood movi br br favourit scene scene restaur cristi discuss painter eileen peter friend daniel day lewi reach act climax kick part anatomi anim wheel crippl perform never slow never falter beauti simpli lot screen time watch never get tire cristi perspicaci eye twitch guttur speech br br must see fo sho yo', 'guess would origin go least two part thu least quarter longer otherwis one explain confus abbrevi storylin never complet lost often partial lost usual unclear charact motiv movi feel though join plot point drop squeez time slot br br longer might make sens still much good movi interest idea war zeu hera war male femal movi drop ball make hera follow fairli horribl clear zeu follow believ movi also interest see god real certainti exist got coupl intrigu idea anyth use br br bad dialog cardboard charact one interest scene involv hercul three antagonist son unwatch also worth watch', 'well like watch bad horror b movi caus think interest see stupid unabl creator shoot serious good movi alway compar movi exampl spielberg work understand huge differ see like ed wood movi caus inept funni peopl chill funni even interest extrem bore horror movi without anyth make even bad movi watchabl act screenplay direct thrill even blood extrem inept amateurish film definit worst movi ever seen seen lot worst movi believ warn', 'worst movi ever seen well worst probabl ever see see need rehash other said previous forewarn br br one bad movi think want watch want abl make fun plain bad bad bad bad bad br br movi equival pet rock friend wait wait wait wait wait wait wait wait someth happen unfortun never least pet rock knew get lion gate complet deceiv bombshel disast watch film would swear georg w bush hand make film ye idiot br br stay away unless cours want watch worst movi time probabl lion gate figur would make money piec tripe', 'mario fan long rememb fond memori play super mario world kid game brought back mani memori ad someth new super mario galaxi latest instal amaz mario franchis much differ game mario still keep intact greatest element mario first notic differ stori take place space br br stori begin much like mario game mario receiv letter princess peach invit celebr castl mushroom kingdom upon arriv peach castl mario find bowser son bowser jr attack castl airship bowser kidnap princess peach lift castl space midst castl lift space mario fall land unknown planet mario found talk star name luma taken back luma home float space station mario meet mani luma also meet leader woman name rosalina rosalina tell mario bowser taken away space station power star scatter across univers mario help luma find save peach thu adventur begin br br way play game fli space station galaxi galaxi consist multipl planet mario travel amongst level via shoot star retriev power star mario mani time walk way around planet without lose graviti planet small other big mani planet similar classic mario environ best thing game control stuff like jump still wiimot use mani uniqu way game shake remot mario perform spin use primari attack game well activ shoot star also point remot screen use pointer fire star bit enemi object environ graphic far best graphic wii hard describ great game look could probabl almost say look good game br br minor gripe go upsid effect take get use also stori pretti weak worst part lose live turn game matter mani last quit restart live still minor problem asid superb game highli entertain challeng type game wait wii br br perfect']\n"
     ]
    }
   ],
   "source": [
    "print(corpus)"
   ]
  },
  {
   "cell_type": "code",
   "execution_count": 26,
   "id": "12cf42dc",
   "metadata": {},
   "outputs": [],
   "source": [
    "from sklearn.feature_extraction.text import TfidfVectorizer\n",
    "# cv = TfidfVectorizer(max_features=5000)\n",
    "cv = TfidfVectorizer(max_features=500)\n",
    "X = cv.fit_transform(corpus).toarray()"
   ]
  },
  {
   "cell_type": "code",
   "execution_count": 27,
   "id": "4f717a80",
   "metadata": {},
   "outputs": [
    {
     "data": {
      "text/plain": [
       "array([[0.        , 0.        , 0.        , ..., 0.        , 0.        ,\n",
       "        0.        ],\n",
       "       [0.        , 0.        , 0.        , ..., 0.        , 0.        ,\n",
       "        0.        ],\n",
       "       [0.        , 0.        , 0.        , ..., 0.11142743, 0.        ,\n",
       "        0.12091984],\n",
       "       ...,\n",
       "       [0.        , 0.08655773, 0.        , ..., 0.        , 0.        ,\n",
       "        0.        ],\n",
       "       [0.        , 0.        , 0.        , ..., 0.        , 0.        ,\n",
       "        0.        ],\n",
       "       [0.        , 0.        , 0.        , ..., 0.        , 0.        ,\n",
       "        0.        ]])"
      ]
     },
     "execution_count": 27,
     "metadata": {},
     "output_type": "execute_result"
    }
   ],
   "source": [
    "X"
   ]
  },
  {
   "cell_type": "code",
   "execution_count": 65,
   "id": "0fcb037a",
   "metadata": {},
   "outputs": [
    {
     "data": {
      "text/plain": [
       "(5000, 500)"
      ]
     },
     "execution_count": 65,
     "metadata": {},
     "output_type": "execute_result"
    }
   ],
   "source": [
    "X.shape"
   ]
  },
  {
   "cell_type": "code",
   "execution_count": 66,
   "id": "ff066e08",
   "metadata": {},
   "outputs": [],
   "source": [
    "from sklearn.model_selection import train_test_split\n",
    "X_train, X_test, y_train, y_test = train_test_split(X, y, train_size=0.8, random_state=81)"
   ]
  },
  {
   "cell_type": "code",
   "execution_count": 67,
   "id": "875422e7",
   "metadata": {},
   "outputs": [],
   "source": [
    "from sklearn.svm import SVC\n",
    "model = SVC(C=1.0,\n",
    "           kernel='linear',\n",
    "           random_state=81)"
   ]
  },
  {
   "cell_type": "code",
   "execution_count": 68,
   "id": "02186a6a",
   "metadata": {},
   "outputs": [
    {
     "data": {
      "text/html": [
       "<style>#sk-container-id-2 {color: black;background-color: white;}#sk-container-id-2 pre{padding: 0;}#sk-container-id-2 div.sk-toggleable {background-color: white;}#sk-container-id-2 label.sk-toggleable__label {cursor: pointer;display: block;width: 100%;margin-bottom: 0;padding: 0.3em;box-sizing: border-box;text-align: center;}#sk-container-id-2 label.sk-toggleable__label-arrow:before {content: \"▸\";float: left;margin-right: 0.25em;color: #696969;}#sk-container-id-2 label.sk-toggleable__label-arrow:hover:before {color: black;}#sk-container-id-2 div.sk-estimator:hover label.sk-toggleable__label-arrow:before {color: black;}#sk-container-id-2 div.sk-toggleable__content {max-height: 0;max-width: 0;overflow: hidden;text-align: left;background-color: #f0f8ff;}#sk-container-id-2 div.sk-toggleable__content pre {margin: 0.2em;color: black;border-radius: 0.25em;background-color: #f0f8ff;}#sk-container-id-2 input.sk-toggleable__control:checked~div.sk-toggleable__content {max-height: 200px;max-width: 100%;overflow: auto;}#sk-container-id-2 input.sk-toggleable__control:checked~label.sk-toggleable__label-arrow:before {content: \"▾\";}#sk-container-id-2 div.sk-estimator input.sk-toggleable__control:checked~label.sk-toggleable__label {background-color: #d4ebff;}#sk-container-id-2 div.sk-label input.sk-toggleable__control:checked~label.sk-toggleable__label {background-color: #d4ebff;}#sk-container-id-2 input.sk-hidden--visually {border: 0;clip: rect(1px 1px 1px 1px);clip: rect(1px, 1px, 1px, 1px);height: 1px;margin: -1px;overflow: hidden;padding: 0;position: absolute;width: 1px;}#sk-container-id-2 div.sk-estimator {font-family: monospace;background-color: #f0f8ff;border: 1px dotted black;border-radius: 0.25em;box-sizing: border-box;margin-bottom: 0.5em;}#sk-container-id-2 div.sk-estimator:hover {background-color: #d4ebff;}#sk-container-id-2 div.sk-parallel-item::after {content: \"\";width: 100%;border-bottom: 1px solid gray;flex-grow: 1;}#sk-container-id-2 div.sk-label:hover label.sk-toggleable__label {background-color: #d4ebff;}#sk-container-id-2 div.sk-serial::before {content: \"\";position: absolute;border-left: 1px solid gray;box-sizing: border-box;top: 0;bottom: 0;left: 50%;z-index: 0;}#sk-container-id-2 div.sk-serial {display: flex;flex-direction: column;align-items: center;background-color: white;padding-right: 0.2em;padding-left: 0.2em;position: relative;}#sk-container-id-2 div.sk-item {position: relative;z-index: 1;}#sk-container-id-2 div.sk-parallel {display: flex;align-items: stretch;justify-content: center;background-color: white;position: relative;}#sk-container-id-2 div.sk-item::before, #sk-container-id-2 div.sk-parallel-item::before {content: \"\";position: absolute;border-left: 1px solid gray;box-sizing: border-box;top: 0;bottom: 0;left: 50%;z-index: -1;}#sk-container-id-2 div.sk-parallel-item {display: flex;flex-direction: column;z-index: 1;position: relative;background-color: white;}#sk-container-id-2 div.sk-parallel-item:first-child::after {align-self: flex-end;width: 50%;}#sk-container-id-2 div.sk-parallel-item:last-child::after {align-self: flex-start;width: 50%;}#sk-container-id-2 div.sk-parallel-item:only-child::after {width: 0;}#sk-container-id-2 div.sk-dashed-wrapped {border: 1px dashed gray;margin: 0 0.4em 0.5em 0.4em;box-sizing: border-box;padding-bottom: 0.4em;background-color: white;}#sk-container-id-2 div.sk-label label {font-family: monospace;font-weight: bold;display: inline-block;line-height: 1.2em;}#sk-container-id-2 div.sk-label-container {text-align: center;}#sk-container-id-2 div.sk-container {/* jupyter's `normalize.less` sets `[hidden] { display: none; }` but bootstrap.min.css set `[hidden] { display: none !important; }` so we also need the `!important` here to be able to override the default hidden behavior on the sphinx rendered scikit-learn.org. See: https://github.com/scikit-learn/scikit-learn/issues/21755 */display: inline-block !important;position: relative;}#sk-container-id-2 div.sk-text-repr-fallback {display: none;}</style><div id=\"sk-container-id-2\" class=\"sk-top-container\"><div class=\"sk-text-repr-fallback\"><pre>SVC(kernel=&#x27;linear&#x27;, random_state=81)</pre><b>In a Jupyter environment, please rerun this cell to show the HTML representation or trust the notebook. <br />On GitHub, the HTML representation is unable to render, please try loading this page with nbviewer.org.</b></div><div class=\"sk-container\" hidden><div class=\"sk-item\"><div class=\"sk-estimator sk-toggleable\"><input class=\"sk-toggleable__control sk-hidden--visually\" id=\"sk-estimator-id-2\" type=\"checkbox\" checked><label for=\"sk-estimator-id-2\" class=\"sk-toggleable__label sk-toggleable__label-arrow\">SVC</label><div class=\"sk-toggleable__content\"><pre>SVC(kernel=&#x27;linear&#x27;, random_state=81)</pre></div></div></div></div></div>"
      ],
      "text/plain": [
       "SVC(kernel='linear', random_state=81)"
      ]
     },
     "execution_count": 68,
     "metadata": {},
     "output_type": "execute_result"
    }
   ],
   "source": [
    "model.fit(X_train, y_train)"
   ]
  },
  {
   "cell_type": "code",
   "execution_count": 69,
   "id": "c42b9f74",
   "metadata": {},
   "outputs": [
    {
     "data": {
      "text/plain": [
       "0.854"
      ]
     },
     "execution_count": 69,
     "metadata": {},
     "output_type": "execute_result"
    }
   ],
   "source": [
    "model.score(X_test, y_test)"
   ]
  },
  {
   "cell_type": "code",
   "execution_count": 70,
   "id": "49ebe80c",
   "metadata": {},
   "outputs": [],
   "source": [
    "y_pred = model.predict(X_test)"
   ]
  },
  {
   "cell_type": "code",
   "execution_count": 71,
   "id": "92f4b7d9",
   "metadata": {},
   "outputs": [],
   "source": [
    "# save and load the model\n",
    "# import pickle"
   ]
  },
  {
   "cell_type": "code",
   "execution_count": 72,
   "id": "a4e3bf21",
   "metadata": {},
   "outputs": [],
   "source": [
    "# pickle.dump(cv, open('movie_review_cv.pkl', 'wb'))\n",
    "# pickle.dump(model, open('movie_review_model.pkl', 'wb'))"
   ]
  },
  {
   "cell_type": "code",
   "execution_count": 73,
   "id": "7ff4a5a6",
   "metadata": {},
   "outputs": [],
   "source": [
    "# save_cv = pickle.load(open('movie_review_cv.pkl', 'rb'))\n",
    "# save_model = pickle.load( open('movie_review_model.pkl', 'rb'))"
   ]
  },
  {
   "cell_type": "code",
   "execution_count": 78,
   "id": "a18f4866",
   "metadata": {},
   "outputs": [],
   "source": [
    "# function for testing\n",
    "\n",
    "def test_model(sentence):\n",
    "#     sen = save_cv.transform([sentence]).toarray()\n",
    "    sen = cv.transform([sentence]).toarray()\n",
    "#     res = save_model.predict(sen)[0]\n",
    "    res = model.predict(sen)[0]\n",
    "    #     print(res)\n",
    "    if res == 1:\n",
    "        print('positive')\n",
    "    else:\n",
    "        print('negative')"
   ]
  },
  {
   "cell_type": "code",
   "execution_count": 79,
   "id": "9213c2fb",
   "metadata": {},
   "outputs": [
    {
     "name": "stdout",
     "output_type": "stream",
     "text": [
      "positive\n"
     ]
    }
   ],
   "source": [
    "sentence = 'i love amber heard'\n",
    "test_model(sentence)"
   ]
  },
  {
   "cell_type": "code",
   "execution_count": 80,
   "id": "040dc5f4",
   "metadata": {},
   "outputs": [
    {
     "name": "stdout",
     "output_type": "stream",
     "text": [
      "negative\n"
     ]
    }
   ],
   "source": [
    "sentence = 'i hate gigi hadid'\n",
    "test_model(sentence)"
   ]
  },
  {
   "cell_type": "code",
   "execution_count": 81,
   "id": "4fcbc2e6",
   "metadata": {},
   "outputs": [],
   "source": [
    "# print(set(stopwords.words(\"english\")))"
   ]
  },
  {
   "cell_type": "code",
   "execution_count": 82,
   "id": "c4018cd7",
   "metadata": {},
   "outputs": [
    {
     "name": "stdout",
     "output_type": "stream",
     "text": [
      "              precision    recall  f1-score   support\n",
      "\n",
      "           0       0.86      0.85      0.86       507\n",
      "           1       0.85      0.85      0.85       493\n",
      "\n",
      "    accuracy                           0.85      1000\n",
      "   macro avg       0.85      0.85      0.85      1000\n",
      "weighted avg       0.85      0.85      0.85      1000\n",
      "\n"
     ]
    }
   ],
   "source": [
    "from sklearn.metrics import classification_report\n",
    "print(classification_report(y_pred,y_test))"
   ]
  },
  {
   "cell_type": "code",
   "execution_count": null,
   "id": "f229ea53",
   "metadata": {},
   "outputs": [],
   "source": []
  }
 ],
 "metadata": {
  "kernelspec": {
   "display_name": "Python 3 (ipykernel)",
   "language": "python",
   "name": "python3"
  },
  "language_info": {
   "codemirror_mode": {
    "name": "ipython",
    "version": 3
   },
   "file_extension": ".py",
   "mimetype": "text/x-python",
   "name": "python",
   "nbconvert_exporter": "python",
   "pygments_lexer": "ipython3",
   "version": "3.10.9"
  }
 },
 "nbformat": 4,
 "nbformat_minor": 5
}
